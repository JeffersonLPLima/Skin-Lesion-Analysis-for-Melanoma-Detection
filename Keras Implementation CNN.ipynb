{
 "cells": [
  {
   "cell_type": "code",
   "execution_count": 20,
   "metadata": {},
   "outputs": [],
   "source": [
    "import cv2\n",
    "import tkinter as tk\n",
    "import tkinter.filedialog as tkfd\n",
    "import os\n",
    "import numpy as np\n",
    "import tensorflow as tf\n",
    "import pandas as pd\n",
    "import matplotlib.pyplot as plt\n",
    "from sklearn.preprocessing import LabelEncoder\n",
    "from sklearn.metrics import accuracy_score\n",
    "from keras.utils import np_utils\n",
    "from keras.models import Sequential\n",
    "from keras.layers import  Flatten, Dense, Activation,Convolution2D,MaxPooling2D\n",
    "from sklearn.cross_validation import train_test_split\n",
    "from keras.optimizers import Adam\n",
    "from keras.callbacks import EarlyStopping\n",
    "from keras import backend as K\n",
    "import random\n",
    "%matplotlib inline"
   ]
  },
  {
   "cell_type": "code",
   "execution_count": 3,
   "metadata": {
    "collapsed": true
   },
   "outputs": [],
   "source": [
    "def load_images(folder):\n",
    "        image_list=[]\n",
    "        for filename in os.listdir(folder):\n",
    "            img=cv2.imread(os.path.join(folder,filename))\n",
    "            if img is not None:\n",
    "                image_list.append(img)\n",
    "        return image_list"
   ]
  },
  {
   "cell_type": "code",
   "execution_count": 4,
   "metadata": {
    "collapsed": true
   },
   "outputs": [],
   "source": [
    "tk.Tk().withdraw()\n",
    "path_Train=tkfd.askdirectory()"
   ]
  },
  {
   "cell_type": "code",
   "execution_count": 5,
   "metadata": {
    "collapsed": true
   },
   "outputs": [],
   "source": [
    "X_Train=load_images(path_Train)\n",
    "X_Train=np.array(X_Train)"
   ]
  },
  {
   "cell_type": "code",
   "execution_count": 6,
   "metadata": {
    "collapsed": true
   },
   "outputs": [],
   "source": [
    "tk.Tk().withdraw()\n",
    "path_Test=tkfd.askdirectory()"
   ]
  },
  {
   "cell_type": "code",
   "execution_count": 7,
   "metadata": {
    "collapsed": true
   },
   "outputs": [],
   "source": [
    "X_Test=load_images(path_Test)\n",
    "X_Test=np.array(X_Test)"
   ]
  },
  {
   "cell_type": "code",
   "execution_count": 8,
   "metadata": {
    "collapsed": true
   },
   "outputs": [],
   "source": [
    "tk.Tk().withdraw()\n",
    "path_Validation=tkfd.askdirectory()"
   ]
  },
  {
   "cell_type": "code",
   "execution_count": 9,
   "metadata": {
    "collapsed": true
   },
   "outputs": [],
   "source": [
    "X_Validation=load_images(path_Validation)\n",
    "X_Validation=np.array(X_Validation)"
   ]
  },
  {
   "cell_type": "code",
   "execution_count": 10,
   "metadata": {
    "collapsed": true
   },
   "outputs": [],
   "source": [
    "os.chdir(path=tkfd.askdirectory())\n",
    "data_Train=pd.read_csv(\"ISIC-2017_Training_Part3_GroundTruth.csv\")\n",
    "data_Test=pd.read_csv(\"ISIC-2017_Test_v2_Part3_GroundTruth.csv\")\n",
    "data_Validation=pd.read_csv(\"ISIC-2017_Validation_Part3_GroundTruth.csv\")"
   ]
  },
  {
   "cell_type": "code",
   "execution_count": 11,
   "metadata": {
    "collapsed": true
   },
   "outputs": [],
   "source": [
    "data_Train=data_Train.iloc[0:2000,1]\n",
    "data_Test=data_Test.iloc[0:600,1]\n",
    "data_Validation=data_Validation.iloc[0:300,1]\n",
    "\n",
    "y_Train=data_Train\n",
    "y_Test=data_Test\n",
    "y_Validation=data_Validation\n",
    "\n",
    "y_Train=np.array(y_Train)\n",
    "y_Test=np.array(y_Test)\n",
    "y_Validation=np.array(y_Validation)"
   ]
  },
  {
   "cell_type": "code",
   "execution_count": 12,
   "metadata": {
    "collapsed": true
   },
   "outputs": [],
   "source": [
    "y_Train = np_utils.to_categorical(data_Train)\n",
    "y_Test = np_utils.to_categorical(data_Test)\n",
    "y_Validation = np_utils.to_categorical(data_Validation)"
   ]
  },
  {
   "cell_type": "code",
   "execution_count": 13,
   "metadata": {},
   "outputs": [
    {
     "name": "stderr",
     "output_type": "stream",
     "text": [
      "C:\\Users\\User\\Anaconda3\\lib\\site-packages\\ipykernel_launcher.py:10: UserWarning: Update your `Conv2D` call to the Keras 2 API: `Conv2D(32, (5, 5), activation=\"relu\", padding=\"same\", data_format=\"channels_last\")`\n",
      "  # Remove the CWD from sys.path while we load stuff.\n",
      "C:\\Users\\User\\Anaconda3\\lib\\site-packages\\ipykernel_launcher.py:12: UserWarning: Update your `MaxPooling2D` call to the Keras 2 API: `MaxPooling2D(pool_size=(2, 2), data_format=\"channels_last\")`\n",
      "  if sys.path[0] == '':\n",
      "C:\\Users\\User\\Anaconda3\\lib\\site-packages\\ipykernel_launcher.py:14: UserWarning: Update your `Conv2D` call to the Keras 2 API: `Conv2D(64, (3, 3), activation=\"relu\", padding=\"same\", data_format=\"channels_last\")`\n",
      "  \n",
      "C:\\Users\\User\\Anaconda3\\lib\\site-packages\\ipykernel_launcher.py:16: UserWarning: Update your `MaxPooling2D` call to the Keras 2 API: `MaxPooling2D(pool_size=(2, 2), data_format=\"channels_last\")`\n",
      "  app.launch_new_instance()\n"
     ]
    }
   ],
   "source": [
    "# Convolutional Neural Network with 6 layers\n",
    "Optimizer=Adam(lr=0.001)\n",
    "objective='binary_crossentropy'\n",
    "def center_normalize(x):\n",
    "    return (x-K.mean(x))/K.std(x)\n",
    "model=Sequential()\n",
    "#input layer\n",
    "model.add(Activation(activation=center_normalize, input_shape=(64, 64,3)))\n",
    "# convolutional layer\n",
    "model.add(Convolution2D(32,5,5,border_mode='same',activation='relu',dim_ordering='tf'))\n",
    "#pooling layer\n",
    "model.add(MaxPooling2D(pool_size=(2,2),dim_ordering='tf'))\n",
    "# convolutional layer\n",
    "model.add(Convolution2D(64,3,3,border_mode='same',activation='relu',dim_ordering='tf'))\n",
    "# pooling layer\n",
    "model.add(MaxPooling2D(pool_size=(2,2),dim_ordering='tf'))\n",
    "model.add(Flatten())\n",
    "# Relu \n",
    "model.add(Dense(128, activation='relu'))\n",
    "# Sigmoid Fully connected layer\n",
    "model.add(Dense(y_Train.shape[1]))\n",
    "model.add(Activation('sigmoid'))\n",
    "model.compile(loss=objective,optimizer=Optimizer,metrics=['accuracy'])"
   ]
  },
  {
   "cell_type": "code",
   "execution_count": 29,
   "metadata": {},
   "outputs": [
    {
     "name": "stderr",
     "output_type": "stream",
     "text": [
      "C:\\Users\\User\\Anaconda3\\lib\\site-packages\\keras\\models.py:942: UserWarning: The `nb_epoch` argument in `fit` has been renamed `epochs`.\n",
      "  warnings.warn('The `nb_epoch` argument in `fit` '\n"
     ]
    },
    {
     "name": "stdout",
     "output_type": "stream",
     "text": [
      "Epoch 1/15\n",
      "2000/2000 [==============================] - 20s 10ms/step - loss: 0.4620 - acc: 0.8132\n",
      "Epoch 2/15\n",
      "2000/2000 [==============================] - 18s 9ms/step - loss: 0.4617 - acc: 0.8152\n",
      "Epoch 3/15\n",
      "2000/2000 [==============================] - 20s 10ms/step - loss: 0.4652 - acc: 0.8135\n",
      "Epoch 4/15\n",
      "2000/2000 [==============================] - 18s 9ms/step - loss: 0.4603 - acc: 0.8137\n",
      "Epoch 5/15\n",
      "2000/2000 [==============================] - 18s 9ms/step - loss: 0.4585 - acc: 0.8150\n",
      "Epoch 6/15\n",
      "2000/2000 [==============================] - 18s 9ms/step - loss: 0.4491 - acc: 0.8140\n",
      "Epoch 7/15\n",
      "2000/2000 [==============================] - 18s 9ms/step - loss: 0.4467 - acc: 0.8162\n",
      "Epoch 8/15\n",
      "2000/2000 [==============================] - 18s 9ms/step - loss: 0.4451 - acc: 0.8180\n",
      "Epoch 9/15\n",
      "2000/2000 [==============================] - 18s 9ms/step - loss: 0.4445 - acc: 0.8178\n",
      "Epoch 10/15\n",
      "2000/2000 [==============================] - 18s 9ms/step - loss: 0.4349 - acc: 0.8175\n",
      "Epoch 11/15\n",
      "2000/2000 [==============================] - 18s 9ms/step - loss: 0.4361 - acc: 0.8160\n",
      "Epoch 12/15\n",
      "2000/2000 [==============================] - 18s 9ms/step - loss: 0.4356 - acc: 0.8215\n",
      "Epoch 13/15\n",
      "2000/2000 [==============================] - 18s 9ms/step - loss: 0.4277 - acc: 0.8197\n",
      "Epoch 14/15\n",
      "2000/2000 [==============================] - 18s 9ms/step - loss: 0.4275 - acc: 0.8260\n",
      "Epoch 15/15\n",
      "2000/2000 [==============================] - 18s 9ms/step - loss: 0.4196 - acc: 0.8240\n"
     ]
    },
    {
     "data": {
      "text/plain": [
       "<keras.callbacks.History at 0x200974b97b8>"
      ]
     },
     "execution_count": 29,
     "metadata": {},
     "output_type": "execute_result"
    }
   ],
   "source": [
    "random.seed(250)\n",
    "model.fit(X_Train,y_Train,batch_size=200,nb_epoch=15,verbose=1)"
   ]
  },
  {
   "cell_type": "code",
   "execution_count": 30,
   "metadata": {},
   "outputs": [
    {
     "name": "stdout",
     "output_type": "stream",
     "text": [
      "600/600 [==============================] - 2s 4ms/step\n",
      "\n",
      "acc: 80.25%\n"
     ]
    }
   ],
   "source": [
    "scores = model.evaluate(X_Test, y_Test)\n",
    "print(\"\\n%s: %.2f%%\" % (model.metrics_names[1], scores[1]*100))"
   ]
  },
  {
   "cell_type": "code",
   "execution_count": 31,
   "metadata": {},
   "outputs": [
    {
     "name": "stdout",
     "output_type": "stream",
     "text": [
      "150/150 [==============================] - 1s 4ms/step\n",
      "\n",
      "acc: 78.67%\n"
     ]
    }
   ],
   "source": [
    "scores = model.evaluate(X_Validation, y_Validation)\n",
    "print(\"\\n%s: %.2f%%\" % (model.metrics_names[1], scores[1]*100))"
   ]
  }
 ],
 "metadata": {
  "kernelspec": {
   "display_name": "Python 3",
   "language": "python",
   "name": "python3"
  },
  "language_info": {
   "codemirror_mode": {
    "name": "ipython",
    "version": 3
   },
   "file_extension": ".py",
   "mimetype": "text/x-python",
   "name": "python",
   "nbconvert_exporter": "python",
   "pygments_lexer": "ipython3",
   "version": "3.6.2"
  }
 },
 "nbformat": 4,
 "nbformat_minor": 2
}
